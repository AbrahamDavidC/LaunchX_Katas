{
 "cells": [
  {
   "cell_type": "markdown",
   "metadata": {},
   "source": [
    "# Kata 9\n"
   ]
  },
  {
   "cell_type": "markdown",
   "metadata": {},
   "source": [
    "Ejercicio 1\n"
   ]
  },
  {
   "cell_type": "code",
   "execution_count": 39,
   "metadata": {},
   "outputs": [
    {
     "name": "stdout",
     "output_type": "stream",
     "text": [
      "Reporte de los tanques de combustible:\n",
      " Promedio total = 20.0% \n",
      " Tanque 1 = 10% \n",
      " Tanque 2 = 40% \n",
      " Tanque 3 = 10%\n"
     ]
    }
   ],
   "source": [
    "\n",
    "def promedio(valores):\n",
    "    tot = sum(valores)\n",
    "    tot_de_tanques = len(valores)\n",
    "    return tot / tot_de_tanques\n",
    "def leer_tanques(tanque1, tanque2, tanque3):\n",
    "    return f\"\"\"Reporte de los tanques de combustible:\\n Promedio total = {promedio([tanque1, tanque2, tanque3])}% \\n Tanque 1 = {tanque1}% \\n Tanque 2 = {tanque2}% \\n Tanque 3 = {tanque3}%\"\"\"\n",
    "print(leer_tanques(10,40,10))\n"
   ]
  },
  {
   "cell_type": "markdown",
   "metadata": {},
   "source": [
    "Ejercicio 2"
   ]
  },
  {
   "cell_type": "code",
   "execution_count": 57,
   "metadata": {},
   "outputs": [
    {
     "name": "stdout",
     "output_type": "stream",
     "text": [
      "Misión a : Jupiter \n",
      " Tiempo de viaje en horas : 800 \n",
      " Contenido total de los tanques en litros : 80000 \n",
      "Tanque Principal --> 50000 litros \n",
      "Tanque Externo --> 30000 litros \n",
      "\n"
     ]
    }
   ],
   "source": [
    "def reporte_mision(destino, *minutos, **tanque):\n",
    "    principal = f\"\"\"Misión a : {destino} \\n Tiempo de viaje en horas : {sum(minutos)} \\n Contenido total de los tanques en litros : {sum(tanque.values())} \\n\"\"\"\n",
    "    for tanq_prin, litros in tanque.items():\n",
    "        principal += f\"Tanque {tanq_prin} --> {litros} litros \\n\" \n",
    "    return principal\n",
    "print(reporte_mision(\"Jupiter\", 500,300, Principal=50000, Externo=30000))"
   ]
  }
 ],
 "metadata": {
  "interpreter": {
   "hash": "0dda09140a1fd88ea879080486bbeb4c81cc74626dc51b563162033e734c6912"
  },
  "kernelspec": {
   "display_name": "Python 3.10.2 64-bit",
   "language": "python",
   "name": "python3"
  },
  "language_info": {
   "codemirror_mode": {
    "name": "ipython",
    "version": 3
   },
   "file_extension": ".py",
   "mimetype": "text/x-python",
   "name": "python",
   "nbconvert_exporter": "python",
   "pygments_lexer": "ipython3",
   "version": "3.10.2"
  },
  "orig_nbformat": 4
 },
 "nbformat": 4,
 "nbformat_minor": 2
}
