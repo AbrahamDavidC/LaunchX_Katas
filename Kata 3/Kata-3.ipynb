{
 "cells": [
  {
   "cell_type": "markdown",
   "metadata": {},
   "source": [
    "# Kata 3"
   ]
  },
  {
   "cell_type": "code",
   "execution_count": 4,
   "metadata": {},
   "outputs": [
    {
     "name": "stdout",
     "output_type": "stream",
     "text": [
      "No hay problema alguno, buen día\n"
     ]
    }
   ],
   "source": [
    "adver=25\n",
    "ast_vel=49\n",
    "if adver<=ast_vel:\n",
    "    print('¡PELIGRO! ¡PELIGRO! Se acerca un asteroide a gran velocidad.')\n",
    "else:\n",
    "    print('No hay problema alguno, buen día.')"
   ]
  },
  {
   "cell_type": "code",
   "execution_count": 6,
   "metadata": {},
   "outputs": [
    {
     "name": "stdout",
     "output_type": "stream",
     "text": [
      "¡Observar el cielo! Se puede apreciar un asteroide.\n"
     ]
    }
   ],
   "source": [
    "ast_vel=19\n",
    "if ast_vel>=20:\n",
    "    print('¡Observar el cielo! Se puede apreciar un asteroide.')\n",
    "else:\n",
    "    print('No pasa nada, buen día.')"
   ]
  },
  {
   "cell_type": "code",
   "execution_count": 16,
   "metadata": {},
   "outputs": [
    {
     "name": "stdout",
     "output_type": "stream",
     "text": [
      "¡Observar el cielo! Se puede apreciar un asteroide.\n"
     ]
    }
   ],
   "source": [
    "ast_vel=25\n",
    "ast_tam=50\n",
    "if ast_vel>25 and ast_tam>25:\n",
    "    print('¡PELIGRO! ¡PELIGRO! Se acerca un asteroide muy peligroso a la Tierra.')\n",
    "elif ast_vel>=20:\n",
    "    print('¡Observar el cielo! Se puede apreciar un asteroide.')\n",
    "elif ast_tam<25:\n",
    "    print('No pasa nada, buen día.')\n",
    "else:\n",
    "    print('No pasa nada, buen día.')"
   ]
  }
 ],
 "metadata": {
  "interpreter": {
   "hash": "0dda09140a1fd88ea879080486bbeb4c81cc74626dc51b563162033e734c6912"
  },
  "kernelspec": {
   "display_name": "Python 3.10.2 64-bit",
   "language": "python",
   "name": "python3"
  },
  "language_info": {
   "codemirror_mode": {
    "name": "ipython",
    "version": 3
   },
   "file_extension": ".py",
   "mimetype": "text/x-python",
   "name": "python",
   "nbconvert_exporter": "python",
   "pygments_lexer": "ipython3",
   "version": "3.10.2"
  },
  "orig_nbformat": 4
 },
 "nbformat": 4,
 "nbformat_minor": 2
}
