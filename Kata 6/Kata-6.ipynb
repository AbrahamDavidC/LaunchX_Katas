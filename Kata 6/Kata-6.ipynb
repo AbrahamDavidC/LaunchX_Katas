{
 "cells": [
  {
   "cell_type": "markdown",
   "metadata": {},
   "source": [
    "\n",
    "# Kata 6\n"
   ]
  },
  {
   "cell_type": "markdown",
   "metadata": {},
   "source": [
    "Ejercicio 1"
   ]
  },
  {
   "cell_type": "code",
   "execution_count": 12,
   "metadata": {},
   "outputs": [
    {
     "name": "stdout",
     "output_type": "stream",
     "text": [
      "Los planetas son 8 en total.\n",
      "Plutón es el ultimo planeta\n"
     ]
    }
   ],
   "source": [
    "planetas=('Mercurio', 'Venus', 'Tierra', 'Marte', 'Jupiter', 'Saturno', 'Urano', 'Neptuno')\n",
    "print('Los planetas son', len(planetas), 'en total.')\n",
    "planetas1=list(planetas)\n",
    "planetas1.append('Plutón')\n",
    "print(planetas1[-1], 'es el ultimo planeta')"
   ]
  },
  {
   "cell_type": "markdown",
   "metadata": {},
   "source": [
    "Ejercicio 2"
   ]
  },
  {
   "cell_type": "code",
   "execution_count": 2,
   "metadata": {},
   "outputs": [
    {
     "name": "stdout",
     "output_type": "stream",
     "text": [
      "Los planetas más cercanos al Sol hasta el planeta Tierra son:\n",
      "('Mercurio', 'Venus')\n",
      "Los planetas más lejanos al Sol, desde Tierra son:\n",
      "('Marte', 'Jupiter', 'Saturno', 'Urano', 'Neptuno')\n"
     ]
    }
   ],
   "source": [
    "planetas=('Mercurio', 'Venus', 'Tierra', 'Marte', 'Jupiter', 'Saturno', 'Urano', 'Neptuno')\n",
    "planet_escogido=input('¿Qué planeta desea? (Escribirlo con mayuscula al comienzo)')\n",
    "planet_index=planetas.index(planet_escogido)\n",
    "print('Los planetas más cercanos al Sol hasta el planeta ' + planet_escogido, 'son:')\n",
    "print(planetas[0:planet_index])\n",
    "print('Los planetas más lejanos al Sol, desde ' + planet_escogido, 'son:')\n",
    "print(planetas[planet_index+1:])"
   ]
  },
  {
   "cell_type": "markdown",
   "metadata": {},
   "source": []
  }
 ],
 "metadata": {
  "interpreter": {
   "hash": "0dda09140a1fd88ea879080486bbeb4c81cc74626dc51b563162033e734c6912"
  },
  "kernelspec": {
   "display_name": "Python 3.10.2 64-bit",
   "language": "python",
   "name": "python3"
  },
  "language_info": {
   "codemirror_mode": {
    "name": "ipython",
    "version": 3
   },
   "file_extension": ".py",
   "mimetype": "text/x-python",
   "name": "python",
   "nbconvert_exporter": "python",
   "pygments_lexer": "ipython3",
   "version": "3.10.2"
  },
  "orig_nbformat": 4
 },
 "nbformat": 4,
 "nbformat_minor": 2
}
