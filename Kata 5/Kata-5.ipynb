{
 "cells": [
  {
   "cell_type": "markdown",
   "metadata": {},
   "source": [
    "# Kata 5\n"
   ]
  },
  {
   "cell_type": "markdown",
   "metadata": {},
   "source": [
    "Ejercicio 1"
   ]
  },
  {
   "cell_type": "code",
   "execution_count": 6,
   "metadata": {},
   "outputs": [
    {
     "name": "stdout",
     "output_type": "stream",
     "text": [
      "La distancia en km es: \n",
      "628949330\n",
      " \n",
      " La distancia en km es: \n",
      "390577533.93\n"
     ]
    }
   ],
   "source": [
    "Tierra=149597870\n",
    "Jupiter=778547200\n",
    "dis_km=Jupiter-Tierra\n",
    "dis_mill=dis_km*0.621\n",
    "print(\"La distancia en km es: \")\n",
    "print(dis_km)\n",
    "print(\" \\n La distancia en millas es: \")\n",
    "print(dis_mill)"
   ]
  },
  {
   "cell_type": "markdown",
   "metadata": {},
   "source": [
    "Ejercicio 2\n"
   ]
  },
  {
   "cell_type": "code",
   "execution_count": 8,
   "metadata": {},
   "outputs": [
    {
     "name": "stdout",
     "output_type": "stream",
     "text": [
      "La distancia en km es:\n",
      "4386900000\n",
      "\n",
      " La distancia en millas es: \n",
      "2724264900.0\n"
     ]
    }
   ],
   "source": [
    "planeta1=input(\"Introduzca la distancia del primer planeta en km\")\n",
    "planeta2=input(\"Introduzca la distancia del segundo planeta en km\")\n",
    "planeta1=int(planeta1)\n",
    "planeta2=int(planeta2)\n",
    "dist_km=(abs(planeta1-planeta2))\n",
    "print(\"La distancia en km es:\")\n",
    "print(dist_km)\n",
    "print(\"\\n La distancia en millas es: \")\n",
    "print(dist_km*0.621)"
   ]
  }
 ],
 "metadata": {
  "interpreter": {
   "hash": "0dda09140a1fd88ea879080486bbeb4c81cc74626dc51b563162033e734c6912"
  },
  "kernelspec": {
   "display_name": "Python 3.10.2 64-bit",
   "language": "python",
   "name": "python3"
  },
  "language_info": {
   "codemirror_mode": {
    "name": "ipython",
    "version": 3
   },
   "file_extension": ".py",
   "mimetype": "text/x-python",
   "name": "python",
   "nbconvert_exporter": "python",
   "pygments_lexer": "ipython3",
   "version": "3.10.2"
  },
  "orig_nbformat": 4
 },
 "nbformat": 4,
 "nbformat_minor": 2
}
